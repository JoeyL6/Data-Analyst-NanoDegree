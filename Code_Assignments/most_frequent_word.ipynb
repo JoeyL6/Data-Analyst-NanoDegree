{
 "cells": [
  {
   "cell_type": "code",
   "execution_count": 52,
   "metadata": {},
   "outputs": [],
   "source": [
    "def most_frequent(s):\n",
    "    \"\"\"Return the most frequently occuring word in s.\"\"\"\n",
    "    # HINT: Use the built-in split() function to transform the string s into an\n",
    "    #       array\n",
    "    s_array = s.split(\" \")\n",
    "    print(s_array)\n",
    "    # HINT: Sort the new array by using the built-in sorted() function or\n",
    "    #       .sort() list method\n",
    "    st_s_array = sorted(s_array)\n",
    "    print(st_s_array)\n",
    "    \n",
    "    # HINT: Iterate through the array and count each occurance of every word\n",
    "    #       using the .count() list method\n",
    "    countdict = dict()\n",
    "    for word in st_s_array:\n",
    "        count = st_s_array.count(word)\n",
    "        countdict[word] = count\n",
    "    print(countdict)\n",
    "    # HINT: Find the number of times the most common word appears using max()\n",
    "    \n",
    "    highest = max(countdict, key = countdict.get)\n",
    "    # HINT: Locate the index of the most frequently seen word\n",
    "\n",
    "    # HINT: Return the most frequent word. Remember that if there is a tie,\n",
    "    #       return the first (tied) word in alphabetical order.\n",
    "    return highest"
   ]
  },
  {
   "cell_type": "code",
   "execution_count": 53,
   "metadata": {},
   "outputs": [
    {
     "name": "stdout",
     "output_type": "stream",
     "text": [
      "['hello', 'world']\n",
      "['hello', 'world']\n",
      "{'hello': 1, 'world': 1}\n"
     ]
    },
    {
     "data": {
      "text/plain": [
       "'hello'"
      ]
     },
     "execution_count": 53,
     "metadata": {},
     "output_type": "execute_result"
    }
   ],
   "source": [
    "most_frequent(\"hello world\")"
   ]
  },
  {
   "cell_type": "code",
   "execution_count": 54,
   "metadata": {},
   "outputs": [
    {
     "name": "stdout",
     "output_type": "stream",
     "text": [
      "['cat', 'bat', 'mat', 'cat', 'bat', 'cat']\n",
      "['bat', 'bat', 'cat', 'cat', 'cat', 'mat']\n",
      "{'bat': 2, 'cat': 3, 'mat': 1}\n"
     ]
    },
    {
     "data": {
      "text/plain": [
       "'cat'"
      ]
     },
     "execution_count": 54,
     "metadata": {},
     "output_type": "execute_result"
    }
   ],
   "source": [
    "most_frequent(\"cat bat mat cat bat cat\")"
   ]
  },
  {
   "cell_type": "code",
   "execution_count": null,
   "metadata": {},
   "outputs": [],
   "source": []
  }
 ],
 "metadata": {
  "kernelspec": {
   "display_name": "Python 3",
   "language": "python",
   "name": "python3"
  },
  "language_info": {
   "codemirror_mode": {
    "name": "ipython",
    "version": 3
   },
   "file_extension": ".py",
   "mimetype": "text/x-python",
   "name": "python",
   "nbconvert_exporter": "python",
   "pygments_lexer": "ipython3",
   "version": "3.6.1"
  }
 },
 "nbformat": 4,
 "nbformat_minor": 2
}
