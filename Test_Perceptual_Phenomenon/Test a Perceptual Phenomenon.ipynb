{
 "cells": [
  {
   "cell_type": "markdown",
   "metadata": {},
   "source": [
    "### Analyzing the Stroop Effect\n",
    "Perform the analysis in the space below. Remember to follow [the instructions](https://docs.google.com/document/d/1-OkpZLjG_kX9J6LIQ5IltsqMzVWjh36QpnP2RYpVdPU/pub?embedded=True) and review the [project rubric](https://review.udacity.com/#!/rubrics/71/view) before submitting. Once you've completed the analysis and write up, download this fileas a PDF or HTML file and submit in the next section.\n",
    "\n",
    "\n",
    "(1) What is the independent variable? What is the dependent variable?"
   ]
  },
  {
   "cell_type": "markdown",
   "metadata": {},
   "source": [
    "**independent variable** : the color words/ink color combination\n",
    "\n",
    "**dependent variable** : time takes to name the ink color under different situation"
   ]
  },
  {
   "cell_type": "markdown",
   "metadata": {},
   "source": [
    "(2) What is an appropriate set of hypotheses for this task? What kind of statistical test do you expect to perform? Justify your choices."
   ]
  },
  {
   "cell_type": "markdown",
   "metadata": {},
   "source": [
    "**hypothesis**\n",
    "\n",
    "H<sub>0</sub>(null hypothesis): the Congruent or incongruent in ink colors/color word will make no difference on time spend on naming ink colors\n",
    "\n",
    "or the mean of congruent group and incongruent group is same\n",
    "\n",
    "H<sub>a</sub>(alternative hypothesis): the Congruent or incongruent in ink colors/color word will make difference on time spend on naming ink colors\n",
    "\n",
    "or the mean of congruent group and incongruent group are not the same\n",
    "\n",
    "**statistical test**\n",
    "I will use independent two sample t-test with 95% confidence interval\n",
    "I choose this test because:\n",
    "    1. we are comparing the difference between two groups of data\n",
    "    2. the poputlation variance and population means are unknown\n",
    "    3. the sample size is much smaller than 30 so the normal approximation can't be used\n",
    "    4. I pick one tail because we only expect to know if the mean of one set of data is smaller than the mean of another set. We are not test on the exsistence of difference."
   ]
  },
  {
   "cell_type": "markdown",
   "metadata": {},
   "source": [
    "(3) Report some descriptive statistics regarding this dataset. Include at least one measure of central tendency and at least one measure of variability. The name of the data file is 'stroopdata.csv'."
   ]
  },
  {
   "cell_type": "markdown",
   "metadata": {
    "collapsed": true
   },
   "source": [
    "**central tendency**\n",
    "\n",
    " | Congruent | Incongruent\n",
    "--- | --- | --- \n",
    "mean |14.051125| 22.015917\n",
    "\n",
    "**variability**\n",
    "\n",
    " | Congruent | Incongruent\n",
    "--- | --- | --- \n",
    "standard deviation | 3.559358 | 4.797057"
   ]
  },
  {
   "cell_type": "code",
   "execution_count": 1,
   "metadata": {},
   "outputs": [
    {
     "data": {
      "text/html": [
       "<div>\n",
       "<style>\n",
       "    .dataframe thead tr:only-child th {\n",
       "        text-align: right;\n",
       "    }\n",
       "\n",
       "    .dataframe thead th {\n",
       "        text-align: left;\n",
       "    }\n",
       "\n",
       "    .dataframe tbody tr th {\n",
       "        vertical-align: top;\n",
       "    }\n",
       "</style>\n",
       "<table border=\"1\" class=\"dataframe\">\n",
       "  <thead>\n",
       "    <tr style=\"text-align: right;\">\n",
       "      <th></th>\n",
       "      <th>Congruent</th>\n",
       "      <th>Incongruent</th>\n",
       "    </tr>\n",
       "  </thead>\n",
       "  <tbody>\n",
       "    <tr>\n",
       "      <th>count</th>\n",
       "      <td>24.000000</td>\n",
       "      <td>24.000000</td>\n",
       "    </tr>\n",
       "    <tr>\n",
       "      <th>mean</th>\n",
       "      <td>14.051125</td>\n",
       "      <td>22.015917</td>\n",
       "    </tr>\n",
       "    <tr>\n",
       "      <th>std</th>\n",
       "      <td>3.559358</td>\n",
       "      <td>4.797057</td>\n",
       "    </tr>\n",
       "    <tr>\n",
       "      <th>min</th>\n",
       "      <td>8.630000</td>\n",
       "      <td>15.687000</td>\n",
       "    </tr>\n",
       "    <tr>\n",
       "      <th>25%</th>\n",
       "      <td>11.895250</td>\n",
       "      <td>18.716750</td>\n",
       "    </tr>\n",
       "    <tr>\n",
       "      <th>50%</th>\n",
       "      <td>14.356500</td>\n",
       "      <td>21.017500</td>\n",
       "    </tr>\n",
       "    <tr>\n",
       "      <th>75%</th>\n",
       "      <td>16.200750</td>\n",
       "      <td>24.051500</td>\n",
       "    </tr>\n",
       "    <tr>\n",
       "      <th>max</th>\n",
       "      <td>22.328000</td>\n",
       "      <td>35.255000</td>\n",
       "    </tr>\n",
       "  </tbody>\n",
       "</table>\n",
       "</div>"
      ],
      "text/plain": [
       "       Congruent  Incongruent\n",
       "count  24.000000    24.000000\n",
       "mean   14.051125    22.015917\n",
       "std     3.559358     4.797057\n",
       "min     8.630000    15.687000\n",
       "25%    11.895250    18.716750\n",
       "50%    14.356500    21.017500\n",
       "75%    16.200750    24.051500\n",
       "max    22.328000    35.255000"
      ]
     },
     "execution_count": 1,
     "metadata": {},
     "output_type": "execute_result"
    }
   ],
   "source": [
    "#code for the descriptive statistics\n",
    "import pandas as pd\n",
    "import numpy as np\n",
    "df = pd.read_csv('./stroopdata.csv')\n",
    "df.describe()"
   ]
  },
  {
   "cell_type": "markdown",
   "metadata": {},
   "source": [
    "(4) Provide one or two visualizations that show the distribution of the sample data. Write one or two sentences noting what you observe about the plot or plots."
   ]
  },
  {
   "attachments": {
    "p1box.png": {
     "image/png": "[encoded data removed]"
    },
    "p1hist.png": {
     "image/png": "[encoded data removed]"
    }
   },
   "cell_type": "markdown",
   "metadata": {},
   "source": [
    "**box plot**\n",
    "\n",
    "It is obvious that testees spend more time on identify ink colors under incongruent condition compare to the testees under congruent condition.\n",
    "\n",
    "Statistically speking, the median time of congruent condition is below the 1st quantile of congruent condition, which means half of congruent testees' performance is better than 75% of testees's under incongruent condition. \n",
    "![p1box.png](attachment:p1box.png)\n",
    "\n",
    "**histogram**\n",
    "\n",
    "This side by side histogram also demostrated same information as the box plot does. However, this graph also shows that about 10 testees under congruent condition finshed the testing list under 10 seconds or less while none of the testees under incongruent condition finished the list within 15 seconds. Also, none of the congruent testees takes more than 25 seconds to finish the list but 5 incongruent testees took more than 25 seconds.\n",
    "![p1hist.png](attachment:p1hist.png)"
   ]
  },
  {
   "cell_type": "code",
   "execution_count": 3,
   "metadata": {
    "scrolled": true
   },
   "outputs": [
    {
     "data": {
      "text/plain": [
       "<matplotlib.legend.Legend at 0x7f99be670eb8>"
      ]
     },
     "execution_count": 3,
     "metadata": {},
     "output_type": "execute_result"
    }
   ],
   "source": [
    "import matplotlib.pyplot as plt\n",
    "import matplotlib.ticker as ticker\n",
    "#create box plot\n",
    "df.plot(kind='box')\n",
    "plt.title('boxplot comparing two conditions')\n",
    "plt.ylabel('time(s)')\n",
    "#plt.show()\n",
    "\n",
    "#create histograms comparing each individual trial\n",
    "#bins = np.linspace(5, 40, 10)\n",
    "#plt.hist(df['Congruent'], bins=[5, 10, 15, 20, 25, 30, 35])\n",
    "#plt.hist(df['Incongruent'], bins=[5, 10, 15, 20, 25, 30, 35])\n",
    "x = df['Congruent']\n",
    "y = df['Incongruent']\n",
    "data = np.vstack([x, y]).T\n",
    "bins = np.linspace(5, 40, 10)\n",
    "\n",
    "plt.title('side by side histogram of two testing conditions')\n",
    "plt.xlabel('time(s)')\n",
    "plt.hist(data, bins, alpha=0.7, label=['Congruent', 'Incongruent'])\n",
    "plt.legend(loc='upper right')\n",
    "#plt.show()\n"
   ]
  },
  {
   "cell_type": "markdown",
   "metadata": {},
   "source": [
    "(5) Now, perform the statistical test and report the results. What is the confidence level and your critical statistic value? Do you reject the null hypothesis or fail to reject it? Come to a conclusion in terms of the experiment task. Did the results match up with your expectations?"
   ]
  },
  {
   "cell_type": "code",
   "execution_count": 8,
   "metadata": {},
   "outputs": [
    {
     "data": {
      "text/plain": [
       "Ttest_indResult(statistic=-6.5322505539032285, pvalue=6.5101673904426379e-08)"
      ]
     },
     "execution_count": 8,
     "metadata": {},
     "output_type": "execute_result"
    }
   ],
   "source": [
    "from scipy import stats\n",
    "sp.stats.ttest_ind(x, y, axis=0, equal_var = False)"
   ]
  },
  {
   "cell_type": "markdown",
   "metadata": {},
   "source": [
    "The two sample independent test results are listed above. The p value is well below 0.05 which means we rejected the null hypothesis since the cinfidence level is 95%. \n",
    "\n",
    "The critical statistic value is -6.5322505539032285.\n",
    "\n",
    "The congruent and incongruent conditions do make difference on time spend on naming ink colors. \n",
    "\n",
    "This result matched my expectiations because the data visulization showing that these two sets of data have difference. "
   ]
  },
  {
   "cell_type": "markdown",
   "metadata": {},
   "source": [
    "### reference"
   ]
  },
  {
   "cell_type": "markdown",
   "metadata": {},
   "source": [
    "- calculate descriptive statistics:\n",
    "https://docs.scipy.org/doc/scipy/reference/generated/scipy.stats.ttest_ind.html\n",
    "- box plot and histogram using pandas: https://pandas.pydata.org/pandas-docs/stable/generated/pandas.DataFrame.plot.html\n",
    "- histogram side by side: https://stackoverflow.com/questions/6871201/plot-two-histograms-at-the-same-time-with-matplotlib\n",
    "- two sample t-test: https://docs.scipy.org/doc/scipy/reference/generated/scipy.stats.ttest_ind.html"
   ]
  },
  {
   "cell_type": "code",
   "execution_count": null,
   "metadata": {},
   "outputs": [],
   "source": []
  }
 ],
 "metadata": {
  "kernelspec": {
   "display_name": "Python 3",
   "language": "python",
   "name": "python3"
  },
  "language_info": {
   "codemirror_mode": {
    "name": "ipython",
    "version": 3
   },
   "file_extension": ".py",
   "mimetype": "text/x-python",
   "name": "python",
   "nbconvert_exporter": "python",
   "pygments_lexer": "ipython3",
   "version": "3.6.3"
  }
 },
 "nbformat": 4,
 "nbformat_minor": 2
}
