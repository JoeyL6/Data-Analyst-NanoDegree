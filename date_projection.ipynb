{
 "cells": [
  {
   "cell_type": "code",
   "execution_count": 62,
   "metadata": {},
   "outputs": [],
   "source": [
    "#import datetime module\n",
    "import datetime"
   ]
  },
  {
   "cell_type": "code",
   "execution_count": 67,
   "metadata": {},
   "outputs": [],
   "source": [
    "def which_date(start_date,time):\n",
    "    \"\"\"\n",
    "    This function takes as input a string depicting a date in YYYY/mm/dd\n",
    "    format and a string stating a time period in the form of \"X day(s)\" or\n",
    "    \"Y week(s)\". Output should be a string in form YYYY/mm/dd with the date\n",
    "    that is X days or Y weeks after the initial date.\n",
    "    \"\"\"\n",
    "    #determine the input formate days/weeks\n",
    "    number, unit = time.split(\" \")\n",
    "    number = int(number)\n",
    "    #transfer weeks to days if the input time is in weeks\n",
    "    if unit == 'weeks' or unit == 'week':\n",
    "        days_passed = number * 7\n",
    "    else:\n",
    "        days_passed = number\n",
    "    \n",
    "    #read the start date using datetime module\n",
    "    day1 = datetime.datetime.strptime(start_date, \"%Y/%m/%d\")\n",
    "    \n",
    "    #calculate the end date after days\n",
    "    end_date = day1 + datetime.timedelta(days = days_passed)\n",
    "    end_date = end_date.date()\n",
    "    end_date = str(end_date)\n",
    "    \n",
    "    #switch the output date to the required formate\n",
    "    end_date = datetime.datetime.strptime(end_date, '%Y-%m-%d').strftime('%Y/%m/%d')\n",
    "    \n",
    "    return end_date\n",
    "    \n"
   ]
  },
  {
   "cell_type": "code",
   "execution_count": 68,
   "metadata": {},
   "outputs": [
    {
     "name": "stdout",
     "output_type": "stream",
     "text": [
      "2016/03/16\n",
      "2017/01/11\n"
     ]
    },
    {
     "data": {
      "text/plain": [
       "'2017/01/11'"
      ]
     },
     "execution_count": 68,
     "metadata": {},
     "output_type": "execute_result"
    }
   ],
   "source": [
    "which_date('2016/02/10','35 days')\n",
    "which_date('2016/12/21','3 weeks')"
   ]
  },
  {
   "cell_type": "code",
   "execution_count": 56,
   "metadata": {},
   "outputs": [
    {
     "ename": "AssertionError",
     "evalue": "",
     "output_type": "error",
     "traceback": [
      "\u001b[0;31m---------------------------------------------------------------------------\u001b[0m",
      "\u001b[0;31mAssertionError\u001b[0m                            Traceback (most recent call last)",
      "\u001b[0;32m<ipython-input-56-d2b74f2fa203>\u001b[0m in \u001b[0;36m<module>\u001b[0;34m()\u001b[0m\n\u001b[1;32m     13\u001b[0m \u001b[0;34m\u001b[0m\u001b[0m\n\u001b[1;32m     14\u001b[0m \u001b[0;32mif\u001b[0m \u001b[0m__name__\u001b[0m \u001b[0;34m==\u001b[0m \u001b[0;34m\"__main__\"\u001b[0m\u001b[0;34m:\u001b[0m\u001b[0;34m\u001b[0m\u001b[0m\n\u001b[0;32m---> 15\u001b[0;31m     \u001b[0mtest\u001b[0m\u001b[0;34m(\u001b[0m\u001b[0;34m)\u001b[0m\u001b[0;34m\u001b[0m\u001b[0m\n\u001b[0m",
      "\u001b[0;32m<ipython-input-56-d2b74f2fa203>\u001b[0m in \u001b[0;36mtest\u001b[0;34m()\u001b[0m\n\u001b[1;32m      6\u001b[0m     \u001b[0mAnswer\u001b[0m \u001b[0mbutton\u001b[0m \u001b[0;32mis\u001b[0m \u001b[0mselected\u001b[0m\u001b[0;34m.\u001b[0m\u001b[0;34m\u001b[0m\u001b[0m\n\u001b[1;32m      7\u001b[0m     \"\"\"\n\u001b[0;32m----> 8\u001b[0;31m     \u001b[0;32massert\u001b[0m \u001b[0mwhich_date\u001b[0m\u001b[0;34m(\u001b[0m\u001b[0;34m'2016/02/10'\u001b[0m\u001b[0;34m,\u001b[0m\u001b[0;34m'35 days'\u001b[0m\u001b[0;34m)\u001b[0m \u001b[0;34m==\u001b[0m \u001b[0;34m'2016/03/16'\u001b[0m\u001b[0;34m\u001b[0m\u001b[0m\n\u001b[0m\u001b[1;32m      9\u001b[0m     \u001b[0;32massert\u001b[0m \u001b[0mwhich_date\u001b[0m\u001b[0;34m(\u001b[0m\u001b[0;34m'2016/12/21'\u001b[0m\u001b[0;34m,\u001b[0m\u001b[0;34m'3 weeks'\u001b[0m\u001b[0;34m)\u001b[0m \u001b[0;34m==\u001b[0m \u001b[0;34m'2017/01/11'\u001b[0m\u001b[0;34m\u001b[0m\u001b[0m\n\u001b[1;32m     10\u001b[0m     \u001b[0;32massert\u001b[0m \u001b[0mwhich_date\u001b[0m\u001b[0;34m(\u001b[0m\u001b[0;34m'2015/01/17'\u001b[0m\u001b[0;34m,\u001b[0m\u001b[0;34m'1 week'\u001b[0m\u001b[0;34m)\u001b[0m \u001b[0;34m==\u001b[0m \u001b[0;34m'2015/01/24'\u001b[0m\u001b[0;34m\u001b[0m\u001b[0m\n",
      "\u001b[0;31mAssertionError\u001b[0m: "
     ]
    }
   ],
   "source": [
    "def test():\n",
    "    \"\"\"\n",
    "    Here are a few tests to check if your code is working correctly! This\n",
    "    function will be run when the Test Run button is selected. Additional\n",
    "    tests that are not part of this function will also be run when the Submit\n",
    "    Answer button is selected.\n",
    "    \"\"\"\n",
    "    assert which_date('2016/02/10','35 days') == '2016/03/16'\n",
    "    assert which_date('2016/12/21','3 weeks') == '2017/01/11'\n",
    "    assert which_date('2015/01/17','1 week') == '2015/01/24'\n",
    "    print(\"All tests completed.\")\n",
    "\n",
    "\n",
    "if __name__ == \"__main__\":\n",
    "    test()"
   ]
  },
  {
   "cell_type": "code",
   "execution_count": null,
   "metadata": {},
   "outputs": [],
   "source": []
  }
 ],
 "metadata": {
  "kernelspec": {
   "display_name": "Python 3",
   "language": "python",
   "name": "python3"
  },
  "language_info": {
   "codemirror_mode": {
    "name": "ipython",
    "version": 3
   },
   "file_extension": ".py",
   "mimetype": "text/x-python",
   "name": "python",
   "nbconvert_exporter": "python",
   "pygments_lexer": "ipython3",
   "version": "3.6.1"
  }
 },
 "nbformat": 4,
 "nbformat_minor": 2
}
